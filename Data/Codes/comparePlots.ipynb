{
 "cells": [
  {
   "cell_type": "code",
   "execution_count": 118,
   "metadata": {},
   "outputs": [
    {
     "name": "stdout",
     "output_type": "stream",
     "text": [
      "Using matplotlib backend: TkAgg\n"
     ]
    }
   ],
   "source": [
    "%matplotlib\n",
    "import matplotlib.pyplot as plt\n",
    "from monolayerClass import Monolayer\n",
    "from IPython.display import display\n",
    "import ipywidgets as widgets\n",
    "\n",
    "\n",
    "filepath=\"d:/Documentos_D/Google_Drive_UGR/Data_analysis/Data/\"\n",
    "#filepath=\"Data/\"\n",
    "#filesave=\"AllCurs\"\n",
    "whatToPlot=\"AreaPerMass\"\n",
    "#whatToPlot=\"PercentCompr\"\n",
    "#whatToPlot=\"T[min]\"\n",
    "whatToPlot=\"Mma[A^2/molec]\"\n",
    "#whatToPlot=\"Area[cm^2]\"\n",
    "markersize=3\n",
    "dictPlots={}\n",
    "btons=[]\n",
    "\n",
    "\n",
    "textBox = widgets.Text(\n",
    "    value='',\n",
    "    placeholder='Type something',\n",
    "    style={\"display\":\"block\"},\n",
    "    description='Equation:')\n",
    "\n",
    "\n"
   ]
  },
  {
   "cell_type": "code",
   "execution_count": 156,
   "metadata": {},
   "outputs": [],
   "source": [
    "def modifyFunc(b):\n",
    "    commandTotal=textBox.value\n",
    "    print(\"My command: \"+commandTotal)\n",
    "    commandTotal=commandTotal.split(\", \")\n",
    "    nameData=b.tooltip\n",
    "    for command in commandTotal:\n",
    "        if \"x\" in command:\n",
    "            modify=whatToPlot\n",
    "        elif \"y\" in command:\n",
    "            modify=\"SP[mN/m]\"\n",
    "        if \"+\" in command:\n",
    "            dictPlots[nameData][\"monolayer\"].data[modify]=dictPlots[nameData][\"monolayer\"].data[modify]+float(command.split(\"+\")[1])\n",
    "        elif \"-\" in command:\n",
    "            dictPlots[nameData][\"monolayer\"].data[modify]=dictPlots[nameData][\"monolayer\"].data[modify]-float(command.split(\"-\")[1])\n",
    "        elif \"*\" in command:\n",
    "            dictPlots[nameData][\"monolayer\"].data[modify]=dictPlots[nameData][\"monolayer\"].data[modify]*float(command.split(\"*\")[1])\n",
    "        elif \"/\" in command:\n",
    "            dictPlots[nameData][\"monolayer\"].data[modify]=dictPlots[nameData][\"monolayer\"].data[modify]/float(command.split(\"/\")[1])\n",
    "    myColor=dictPlots[nameData][\"graph\"].lines[-1]._color \n",
    "    dictPlots[nameData][\"graph\"].remove()\n",
    "    plotThis(dictPlots[nameData][\"monolayer\"])\n",
    "    fig.legend()\n",
    "    cuentas[nameData]+=command+\", \"\n",
    "    return\n",
    "\n",
    "def modifyFunc2(nameData,commandTotal):\n",
    "    \n",
    "    print(\"My command: \"+commandTotal)\n",
    "    commandTotal=commandTotal.split(\", \")\n",
    "\n",
    "    for command in commandTotal:\n",
    "        if \"x\" in command:\n",
    "            modify=whatToPlot\n",
    "        elif \"y\" in command:\n",
    "            modify=\"SP[mN/m]\"\n",
    "        if \"+\" in command:\n",
    "            dictPlots[nameData][\"monolayer\"].data[modify]=dictPlots[nameData][\"monolayer\"].data[modify]+float(command.split(\"+\")[1])\n",
    "        elif \"-\" in command:\n",
    "            dictPlots[nameData][\"monolayer\"].data[modify]=dictPlots[nameData][\"monolayer\"].data[modify]-float(command.split(\"-\")[1])\n",
    "        elif \"*\" in command:\n",
    "            dictPlots[nameData][\"monolayer\"].data[modify]=dictPlots[nameData][\"monolayer\"].data[modify]*float(command.split(\"*\")[1])\n",
    "        elif \"/\" in command:\n",
    "            dictPlots[nameData][\"monolayer\"].data[modify]=dictPlots[nameData][\"monolayer\"].data[modify]/float(command.split(\"/\")[1])\n",
    "\n",
    "    return\n",
    "\n",
    "def removeFunc(b):\n",
    "\n",
    "    line = dictPlots[b.tooltip][\"graph\"]\n",
    "    line.remove()\n",
    "    fig.legend()\n",
    "\n",
    "\n",
    "\n",
    "    return\n",
    "\n",
    "def createButtonRemove(name):\n",
    "    button = widgets.Button(\n",
    "        description=name+' remove',\n",
    "        disabled=False,\n",
    "        button_style='warning', # 'success', 'info', 'warning', 'danger' or ''\n",
    "        tooltip=name,\n",
    "        layout={\"font-size\":\"5px\", \"display\":\"inline-block\", \"width\":\"max-content\"},\n",
    "        icon='check' # (FontAwesome names without the `fa-` prefix)\n",
    "    )\n",
    "\n",
    "    button.on_click(removeFunc)\n",
    "    return button\n",
    "\n",
    "def createButtonModify(name):\n",
    "    button = widgets.Button(\n",
    "        description=name+' modify',\n",
    "        disabled=False,\n",
    "        button_style='info', # 'success', 'info', 'warning', 'danger' or ''\n",
    "        tooltip=name,\n",
    "        layout={\"font-size\":\"5px\", \"display\":\"inline-block\", \"width\":\"max-content\"},\n",
    "        icon='check' # (FontAwesome names without the `fa-` prefix)\n",
    "    )\n",
    "\n",
    "    button.on_click(modifyFunc)\n",
    "\n",
    "\n",
    "    \n",
    "    return button\n",
    "\n",
    "def plotThis(myMonolayer):\n",
    "\n",
    "    myLabel=myMonolayer.param[\"Name\"]\n",
    "    \n",
    "    dictPlots[myLabel][\"graph\"], = ax.plot(myMonolayer.data[whatToPlot],myMonolayer.data[\"SP[mN/m]\"],\"-o\",markersize=markersize, label=myLabel)\n",
    "\n",
    "    \n",
    "    btons[myLabel+\"rem\"]=createButtonRemove(myLabel)\n",
    "    btons[myLabel+\"mod\"]=createButtonModify(myLabel)\n",
    "\n",
    "\n",
    "    \n",
    "    return\n"
   ]
  },
  {
   "cell_type": "code",
   "execution_count": 171,
   "metadata": {},
   "outputs": [],
   "source": [
    "myPaths=[\n",
    "#\"DPPC_B0119/DPPC_B0119\",   #more condensed\n",
    "\"DPPC_B0428N20f/DPPC_B0428N20f\",   #more condensed\n",
    "#\"DPPC_S_W0110/DPPC_S_W0110\",\n",
    "\"CholPC10_B0125/CholPC10_B0125\",\n",
    "\"CholPC25_B0125/CholPC25_B0125\",\n",
    "#\"CholPC40_B1125/CholPC40_B1125\", #mas condensada #x/1.44\n",
    "\"CholPC40_B0412/CholPC40_B0412\",\n",
    "\"CholPC50_B0505/CholPC50_B0505\",\n",
    "#\"TFG/Chol-DPPC-067_B1/Chol-DPPC-067_B1\", #mas expandido\n",
    "\"TFG/Chol-DPPC-067_B4/Chol-DPPC-067_B4\", #menos expandido\n",
    "\"CholPC80_B0126_2/CholPC80_B0126_2\",\n",
    "\"CholPC90_0126/CholPC90_0126\",\n",
    "#\"CholPC90_B0123/CholPC90_B0123\", #changing collapse\n",
    "#\"Chol_B0720N20/Chol_B0720N20\", #no tengo de este año?? más tumbada\n",
    "\"Chol_B0527N20/Chol_B0527N20\", #no tengo de este año??\n",
    "]"
   ]
  },
  {
   "cell_type": "code",
   "execution_count": 173,
   "metadata": {},
   "outputs": [],
   "source": [
    "myPaths=[\n",
    "\"HealthyM_1204/DataRaw/HealthyM_1204\",\n",
    "\n",
    "\n",
    "\n",
    "]"
   ]
  },
  {
   "cell_type": "code",
   "execution_count": 174,
   "metadata": {},
   "outputs": [
    {
     "data": {
      "application/vnd.jupyter.widget-view+json": {
       "model_id": "3368ed9083864923ad8abf7b7033920c",
       "version_major": 2,
       "version_minor": 0
      },
      "text/plain": [
       "VBox(children=(Text(value='x+10', description='Equation:', placeholder='Type something'), Button(button_style=…"
      ]
     },
     "execution_count": 174,
     "metadata": {},
     "output_type": "execute_result"
    },
    {
     "name": "stdout",
     "output_type": "stream",
     "text": [
      "My command: x*0.9, y/0.95, x+8\n"
     ]
    }
   ],
   "source": [
    "dictPlots={}\n",
    "btons={}\n",
    "btons[\"text\"]=textBox\n",
    "cuentas={}\n",
    "\n",
    "\n",
    "fig, ax = plt.subplots()\n",
    "ax.grid()\n",
    "\n",
    "\n",
    "for path in myPaths:\n",
    "    path=filepath+path+\"_IMG.xlsx\"\n",
    "    \n",
    "    myMonolayer=Monolayer(path)\n",
    "    name=myMonolayer.param[\"Name\"]\n",
    "    dictPlots[myMonolayer.param[\"Name\"]]={}\n",
    "    #myMonolayer.RemoveBias()\n",
    "    dictPlots[myMonolayer.param[\"Name\"]][\"monolayer\"]=myMonolayer\n",
    "    plotThis(myMonolayer)\n",
    "    cuentas[name]=\"\"\n",
    "#fig.legend()\n",
    "ax.set_xlim(xmax=120)\n",
    "my_list = [i for i in btons.values()]\n",
    "allBut=widgets.VBox(my_list,layout={\"max-width\":\"1em !important\"})\n",
    "allBut"
   ]
  },
  {
   "cell_type": "code",
   "execution_count": 175,
   "metadata": {},
   "outputs": [
    {
     "ename": "FileNotFoundError",
     "evalue": "[Errno 2] No such file or directory: 'd:/Documentos_D/Google_Drive_UGR/Data_analysis/Data/_IMG.xlsx'",
     "output_type": "error",
     "traceback": [
      "\u001b[1;31m---------------------------------------------------------------------------\u001b[0m",
      "\u001b[1;31mFileNotFoundError\u001b[0m                         Traceback (most recent call last)",
      "\u001b[1;32md:\\Documentos_D\\Google_Drive_UGR\\Data_analysis\\Codes\\comparePlots.ipynb Cell 6\u001b[0m in \u001b[0;36m5\n\u001b[0;32m      <a href='vscode-notebook-cell:/d%3A/Documentos_D/Google_Drive_UGR/Data_analysis/Codes/comparePlots.ipynb#W3sZmlsZQ%3D%3D?line=2'>3</a>\u001b[0m path\u001b[39m=\u001b[39mfilepath\u001b[39m+\u001b[39mpath\u001b[39m+\u001b[39m\u001b[39m\"\u001b[39m\u001b[39m_IMG.xlsx\u001b[39m\u001b[39m\"\u001b[39m\n\u001b[0;32m      <a href='vscode-notebook-cell:/d%3A/Documentos_D/Google_Drive_UGR/Data_analysis/Codes/comparePlots.ipynb#W3sZmlsZQ%3D%3D?line=3'>4</a>\u001b[0m dictPlots[path]\u001b[39m=\u001b[39m{}\n\u001b[1;32m----> <a href='vscode-notebook-cell:/d%3A/Documentos_D/Google_Drive_UGR/Data_analysis/Codes/comparePlots.ipynb#W3sZmlsZQ%3D%3D?line=4'>5</a>\u001b[0m myMonolayer\u001b[39m=\u001b[39mMonolayer(path)\n\u001b[0;32m      <a href='vscode-notebook-cell:/d%3A/Documentos_D/Google_Drive_UGR/Data_analysis/Codes/comparePlots.ipynb#W3sZmlsZQ%3D%3D?line=5'>6</a>\u001b[0m myMonolayer\u001b[39m.\u001b[39mRemoveBias()\n\u001b[0;32m      <a href='vscode-notebook-cell:/d%3A/Documentos_D/Google_Drive_UGR/Data_analysis/Codes/comparePlots.ipynb#W3sZmlsZQ%3D%3D?line=6'>7</a>\u001b[0m dictPlots[path][\u001b[39m\"\u001b[39m\u001b[39mmonolayer\u001b[39m\u001b[39m\"\u001b[39m]\u001b[39m=\u001b[39mmyMonolayer\n",
      "File \u001b[1;32md:\\Documentos_D\\Google_Drive_UGR\\Data_analysis\\Codes\\monolayerClass.py:35\u001b[0m, in \u001b[0;36mMonolayer.__init__\u001b[1;34m(self, source, myPreamble)\u001b[0m\n\u001b[0;32m     32\u001b[0m \u001b[39mself\u001b[39m\u001b[39m.\u001b[39mpath\u001b[39m=\u001b[39msource\n\u001b[0;32m     34\u001b[0m \u001b[39mif\u001b[39;00m \u001b[39m\"\u001b[39m\u001b[39m.xls\u001b[39m\u001b[39m\"\u001b[39m \u001b[39min\u001b[39;00m source:   \u001b[39m#read excel file      \u001b[39;00m\n\u001b[1;32m---> 35\u001b[0m     \u001b[39mself\u001b[39m\u001b[39m.\u001b[39mdata\u001b[39m=\u001b[39mpd\u001b[39m.\u001b[39;49mread_excel(source)\n\u001b[0;32m     36\u001b[0m     \u001b[39mif\u001b[39;00m \u001b[39m'\u001b[39m\u001b[39mArea[cm^2]\u001b[39m\u001b[39m'\u001b[39m \u001b[39mnot\u001b[39;00m \u001b[39min\u001b[39;00m \u001b[39mself\u001b[39m\u001b[39m.\u001b[39mdata\u001b[39m.\u001b[39mcolumns:\n\u001b[0;32m     37\u001b[0m         \u001b[39mself\u001b[39m\u001b[39m.\u001b[39mdata\u001b[39m=\u001b[39mpd\u001b[39m.\u001b[39mread_excel(source,skiprows\u001b[39m=\u001b[39m\u001b[39m43\u001b[39m)\n",
      "File \u001b[1;32mc:\\ProgramFiles\\Python\\Python39\\lib\\site-packages\\pandas\\util\\_decorators.py:311\u001b[0m, in \u001b[0;36mdeprecate_nonkeyword_arguments.<locals>.decorate.<locals>.wrapper\u001b[1;34m(*args, **kwargs)\u001b[0m\n\u001b[0;32m    305\u001b[0m \u001b[39mif\u001b[39;00m \u001b[39mlen\u001b[39m(args) \u001b[39m>\u001b[39m num_allow_args:\n\u001b[0;32m    306\u001b[0m     warnings\u001b[39m.\u001b[39mwarn(\n\u001b[0;32m    307\u001b[0m         msg\u001b[39m.\u001b[39mformat(arguments\u001b[39m=\u001b[39marguments),\n\u001b[0;32m    308\u001b[0m         \u001b[39mFutureWarning\u001b[39;00m,\n\u001b[0;32m    309\u001b[0m         stacklevel\u001b[39m=\u001b[39mstacklevel,\n\u001b[0;32m    310\u001b[0m     )\n\u001b[1;32m--> 311\u001b[0m \u001b[39mreturn\u001b[39;00m func(\u001b[39m*\u001b[39margs, \u001b[39m*\u001b[39m\u001b[39m*\u001b[39mkwargs)\n",
      "File \u001b[1;32mc:\\ProgramFiles\\Python\\Python39\\lib\\site-packages\\pandas\\io\\excel\\_base.py:364\u001b[0m, in \u001b[0;36mread_excel\u001b[1;34m(io, sheet_name, header, names, index_col, usecols, squeeze, dtype, engine, converters, true_values, false_values, skiprows, nrows, na_values, keep_default_na, na_filter, verbose, parse_dates, date_parser, thousands, comment, skipfooter, convert_float, mangle_dupe_cols, storage_options)\u001b[0m\n\u001b[0;32m    362\u001b[0m \u001b[39mif\u001b[39;00m \u001b[39mnot\u001b[39;00m \u001b[39misinstance\u001b[39m(io, ExcelFile):\n\u001b[0;32m    363\u001b[0m     should_close \u001b[39m=\u001b[39m \u001b[39mTrue\u001b[39;00m\n\u001b[1;32m--> 364\u001b[0m     io \u001b[39m=\u001b[39m ExcelFile(io, storage_options\u001b[39m=\u001b[39;49mstorage_options, engine\u001b[39m=\u001b[39;49mengine)\n\u001b[0;32m    365\u001b[0m \u001b[39melif\u001b[39;00m engine \u001b[39mand\u001b[39;00m engine \u001b[39m!=\u001b[39m io\u001b[39m.\u001b[39mengine:\n\u001b[0;32m    366\u001b[0m     \u001b[39mraise\u001b[39;00m \u001b[39mValueError\u001b[39;00m(\n\u001b[0;32m    367\u001b[0m         \u001b[39m\"\u001b[39m\u001b[39mEngine should not be specified when passing \u001b[39m\u001b[39m\"\u001b[39m\n\u001b[0;32m    368\u001b[0m         \u001b[39m\"\u001b[39m\u001b[39man ExcelFile - ExcelFile already has the engine set\u001b[39m\u001b[39m\"\u001b[39m\n\u001b[0;32m    369\u001b[0m     )\n",
      "File \u001b[1;32mc:\\ProgramFiles\\Python\\Python39\\lib\\site-packages\\pandas\\io\\excel\\_base.py:1191\u001b[0m, in \u001b[0;36mExcelFile.__init__\u001b[1;34m(self, path_or_buffer, engine, storage_options)\u001b[0m\n\u001b[0;32m   1189\u001b[0m     ext \u001b[39m=\u001b[39m \u001b[39m\"\u001b[39m\u001b[39mxls\u001b[39m\u001b[39m\"\u001b[39m\n\u001b[0;32m   1190\u001b[0m \u001b[39melse\u001b[39;00m:\n\u001b[1;32m-> 1191\u001b[0m     ext \u001b[39m=\u001b[39m inspect_excel_format(\n\u001b[0;32m   1192\u001b[0m         content_or_path\u001b[39m=\u001b[39;49mpath_or_buffer, storage_options\u001b[39m=\u001b[39;49mstorage_options\n\u001b[0;32m   1193\u001b[0m     )\n\u001b[0;32m   1194\u001b[0m     \u001b[39mif\u001b[39;00m ext \u001b[39mis\u001b[39;00m \u001b[39mNone\u001b[39;00m:\n\u001b[0;32m   1195\u001b[0m         \u001b[39mraise\u001b[39;00m \u001b[39mValueError\u001b[39;00m(\n\u001b[0;32m   1196\u001b[0m             \u001b[39m\"\u001b[39m\u001b[39mExcel file format cannot be determined, you must specify \u001b[39m\u001b[39m\"\u001b[39m\n\u001b[0;32m   1197\u001b[0m             \u001b[39m\"\u001b[39m\u001b[39man engine manually.\u001b[39m\u001b[39m\"\u001b[39m\n\u001b[0;32m   1198\u001b[0m         )\n",
      "File \u001b[1;32mc:\\ProgramFiles\\Python\\Python39\\lib\\site-packages\\pandas\\io\\excel\\_base.py:1070\u001b[0m, in \u001b[0;36minspect_excel_format\u001b[1;34m(content_or_path, storage_options)\u001b[0m\n\u001b[0;32m   1067\u001b[0m \u001b[39mif\u001b[39;00m \u001b[39misinstance\u001b[39m(content_or_path, \u001b[39mbytes\u001b[39m):\n\u001b[0;32m   1068\u001b[0m     content_or_path \u001b[39m=\u001b[39m BytesIO(content_or_path)\n\u001b[1;32m-> 1070\u001b[0m \u001b[39mwith\u001b[39;00m get_handle(\n\u001b[0;32m   1071\u001b[0m     content_or_path, \u001b[39m\"\u001b[39;49m\u001b[39mrb\u001b[39;49m\u001b[39m\"\u001b[39;49m, storage_options\u001b[39m=\u001b[39;49mstorage_options, is_text\u001b[39m=\u001b[39;49m\u001b[39mFalse\u001b[39;49;00m\n\u001b[0;32m   1072\u001b[0m ) \u001b[39mas\u001b[39;00m handle:\n\u001b[0;32m   1073\u001b[0m     stream \u001b[39m=\u001b[39m handle\u001b[39m.\u001b[39mhandle\n\u001b[0;32m   1074\u001b[0m     stream\u001b[39m.\u001b[39mseek(\u001b[39m0\u001b[39m)\n",
      "File \u001b[1;32mc:\\ProgramFiles\\Python\\Python39\\lib\\site-packages\\pandas\\io\\common.py:710\u001b[0m, in \u001b[0;36mget_handle\u001b[1;34m(path_or_buf, mode, encoding, compression, memory_map, is_text, errors, storage_options)\u001b[0m\n\u001b[0;32m    701\u001b[0m         handle \u001b[39m=\u001b[39m \u001b[39mopen\u001b[39m(\n\u001b[0;32m    702\u001b[0m             handle,\n\u001b[0;32m    703\u001b[0m             ioargs\u001b[39m.\u001b[39mmode,\n\u001b[1;32m   (...)\u001b[0m\n\u001b[0;32m    706\u001b[0m             newline\u001b[39m=\u001b[39m\u001b[39m\"\u001b[39m\u001b[39m\"\u001b[39m,\n\u001b[0;32m    707\u001b[0m         )\n\u001b[0;32m    708\u001b[0m     \u001b[39melse\u001b[39;00m:\n\u001b[0;32m    709\u001b[0m         \u001b[39m# Binary mode\u001b[39;00m\n\u001b[1;32m--> 710\u001b[0m         handle \u001b[39m=\u001b[39m \u001b[39mopen\u001b[39;49m(handle, ioargs\u001b[39m.\u001b[39;49mmode)\n\u001b[0;32m    711\u001b[0m     handles\u001b[39m.\u001b[39mappend(handle)\n\u001b[0;32m    713\u001b[0m \u001b[39m# Convert BytesIO or file objects passed with an encoding\u001b[39;00m\n",
      "\u001b[1;31mFileNotFoundError\u001b[0m: [Errno 2] No such file or directory: 'd:/Documentos_D/Google_Drive_UGR/Data_analysis/Data/_IMG.xlsx'"
     ]
    }
   ],
   "source": [
    "#add plot\n",
    "path=\"\"\n",
    "path=filepath+path+\"_IMG.xlsx\"\n",
    "dictPlots[path]={}\n",
    "myMonolayer=Monolayer(path)\n",
    "myMonolayer.RemoveBias()\n",
    "dictPlots[path][\"monolayer\"]=myMonolayer\n",
    "\n",
    "plotThis(path)"
   ]
  },
  {
   "cell_type": "code",
   "execution_count": 176,
   "metadata": {},
   "outputs": [
    {
     "name": "stdout",
     "output_type": "stream",
     "text": [
      "My command: \n"
     ]
    },
    {
     "ename": "KeyError",
     "evalue": "'DPPC_B0428N20f'",
     "output_type": "error",
     "traceback": [
      "\u001b[1;31m---------------------------------------------------------------------------\u001b[0m",
      "\u001b[1;31mKeyError\u001b[0m                                  Traceback (most recent call last)",
      "\u001b[1;32md:\\Documentos_D\\Google_Drive_UGR\\Data_analysis\\Codes\\comparePlots.ipynb Cell 7\u001b[0m in \u001b[0;36m2\n\u001b[0;32m     <a href='vscode-notebook-cell:/d%3A/Documentos_D/Google_Drive_UGR/Data_analysis/Codes/comparePlots.ipynb#W4sZmlsZQ%3D%3D?line=18'>19</a>\u001b[0m \u001b[39mfor\u001b[39;00m name \u001b[39min\u001b[39;00m \u001b[39mlist\u001b[39m(cuentas\u001b[39m.\u001b[39mkeys()):\n\u001b[0;32m     <a href='vscode-notebook-cell:/d%3A/Documentos_D/Google_Drive_UGR/Data_analysis/Codes/comparePlots.ipynb#W4sZmlsZQ%3D%3D?line=19'>20</a>\u001b[0m     \u001b[39m#myMonolayer.RemoveBias()\u001b[39;00m\n\u001b[0;32m     <a href='vscode-notebook-cell:/d%3A/Documentos_D/Google_Drive_UGR/Data_analysis/Codes/comparePlots.ipynb#W4sZmlsZQ%3D%3D?line=20'>21</a>\u001b[0m     modifyFunc2(name,cuentas[name])\n\u001b[1;32m---> <a href='vscode-notebook-cell:/d%3A/Documentos_D/Google_Drive_UGR/Data_analysis/Codes/comparePlots.ipynb#W4sZmlsZQ%3D%3D?line=21'>22</a>\u001b[0m     plotThis(dictPlots[name][\u001b[39m\"\u001b[39m\u001b[39mmonolayer\u001b[39m\u001b[39m\"\u001b[39m])\n\u001b[0;32m     <a href='vscode-notebook-cell:/d%3A/Documentos_D/Google_Drive_UGR/Data_analysis/Codes/comparePlots.ipynb#W4sZmlsZQ%3D%3D?line=23'>24</a>\u001b[0m \u001b[39m#fig.legend()\u001b[39;00m\n\u001b[0;32m     <a href='vscode-notebook-cell:/d%3A/Documentos_D/Google_Drive_UGR/Data_analysis/Codes/comparePlots.ipynb#W4sZmlsZQ%3D%3D?line=24'>25</a>\u001b[0m ax\u001b[39m.\u001b[39mset_xlim(xmax\u001b[39m=\u001b[39m\u001b[39m120\u001b[39m)\n",
      "\u001b[1;31mKeyError\u001b[0m: 'DPPC_B0428N20f'"
     ]
    }
   ],
   "source": [
    "#plot Modified\n",
    "cuentas={\n",
    "    'DPPC_B0428N20f': '',\n",
    " 'CholPC80_B0126_2': 'x*0.9, y/0.95, x+8',\n",
    " 'CholPC25_B0125': 'x/1.5, x+10',\n",
    " 'CholPC40_B0412': 'x/2, x+18, ',\n",
    " 'CholPC50_B0505': 'x*0.64, x+10',\n",
    " 'Chol-DPPC-067_B4': '',\n",
    "  'CholPC10_B0125': 'x*0.245, x+30, y/1.09',\n",
    " 'CholPC90_0126': '',\n",
    " 'Chol_B0527N20': ''\n",
    " }\n",
    "\n",
    "\n",
    "fig, ax = plt.subplots()\n",
    "ax.grid()\n",
    "\n",
    "\n",
    "for name in list(cuentas.keys()):\n",
    "    #myMonolayer.RemoveBias()\n",
    "    modifyFunc2(name,cuentas[name])\n",
    "    plotThis(dictPlots[name][\"monolayer\"])\n",
    "    \n",
    "#fig.legend()\n",
    "ax.set_xlim(xmax=120)\n",
    "\n",
    "\n",
    "\n",
    "\n"
   ]
  },
  {
   "cell_type": "code",
   "execution_count": 115,
   "metadata": {},
   "outputs": [],
   "source": [
    "fig.legend().remove()"
   ]
  },
  {
   "cell_type": "code",
   "execution_count": 154,
   "metadata": {},
   "outputs": [
    {
     "data": {
      "text/plain": [
       "{'DPPC_B0428N20f': '',\n",
       " 'CholPC10_B0125': 'y*1.09, y/1.09, y/1.09, ',\n",
       " 'CholPC25_B0125': 'x/1.5, x+10, ',\n",
       " 'CholPC40_B0412': 'x+18, ',\n",
       " 'CholPC50_B0505': '',\n",
       " 'Chol-DPPC-067_B4': '',\n",
       " 'CholPC80_B0126_2': 'x*0.9, y/0.95, x+15, x-5, x-2, ',\n",
       " 'CholPC90_0126': '',\n",
       " 'Chol_B0527N20': ''}"
      ]
     },
     "execution_count": 154,
     "metadata": {},
     "output_type": "execute_result"
    }
   ],
   "source": [
    "cuentas"
   ]
  },
  {
   "cell_type": "code",
   "execution_count": null,
   "metadata": {},
   "outputs": [],
   "source": []
  }
 ],
 "metadata": {
  "kernelspec": {
   "display_name": "Python 3",
   "language": "python",
   "name": "python3"
  },
  "language_info": {
   "codemirror_mode": {
    "name": "ipython",
    "version": 3
   },
   "file_extension": ".py",
   "mimetype": "text/x-python",
   "name": "python",
   "nbconvert_exporter": "python",
   "pygments_lexer": "ipython3",
   "version": "3.9.6"
  },
  "orig_nbformat": 4
 },
 "nbformat": 4,
 "nbformat_minor": 2
}
