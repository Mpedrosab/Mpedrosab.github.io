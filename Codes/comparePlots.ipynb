{
 "cells": [
  {
   "cell_type": "code",
   "execution_count": 55,
   "metadata": {},
   "outputs": [
    {
     "name": "stdout",
     "output_type": "stream",
     "text": [
      "Using matplotlib backend: TkAgg\n"
     ]
    }
   ],
   "source": [
    "%matplotlib\n",
    "import matplotlib.pyplot as plt\n",
    "from monolayerClass import Monolayer\n",
    "from IPython.display import display\n",
    "import ipywidgets as widgets\n",
    "\n",
    "\n",
    "filepath=\"d:/Documentos_D/Google_Drive_UGR/Data_analysis/Data/\"\n",
    "#filepath=\"Data/\"\n",
    "#filesave=\"AllCurs\"\n",
    "whatToPlot=\"AreaPerMass\"\n",
    "#whatToPlot=\"PercentCompr\"\n",
    "#whatToPlot=\"T[min]\"\n",
    "whatToPlot=\"Mma[A^2/molec]\"\n",
    "#whatToPlot=\"Area[cm^2]\"\n",
    "markersize=4\n",
    "dictPlots={}\n",
    "btons=[]\n",
    "fig, ax = plt.subplots()\n",
    "\n",
    "ax.grid()\n"
   ]
  },
  {
   "cell_type": "code",
   "execution_count": 56,
   "metadata": {},
   "outputs": [],
   "source": [
    "def modifyFunc(b):\n",
    "    command=input(\"What to do with the data?\")\n",
    "    nameData=b.tooltip\n",
    "    if \"x+\" in command:\n",
    "        dictPlots[nameData][\"monolayer\"].data[whatToPlot]=dictPlots[nameData][\"monolayer\"].data[whatToPlot]+float(command.split(\"x+\")[1])\n",
    "    return\n",
    "\n",
    "\n",
    "def removeFunc(b):\n",
    "\n",
    "    line = dictPlots[b.tooltip][\"graph\"]\n",
    "    line.remove()\n",
    "\n",
    "    return\n",
    "\n",
    "def createButtonRemove(name):\n",
    "    button = widgets.Button(\n",
    "        description=name+' remove',\n",
    "        disabled=False,\n",
    "        button_style='warning', # 'success', 'info', 'warning', 'danger' or ''\n",
    "        tooltip=name,\n",
    "        icon='check' # (FontAwesome names without the `fa-` prefix)\n",
    "    )\n",
    "\n",
    "    button.on_click(removeFunc)\n",
    "    return button\n",
    "\n",
    "def createButtonModify(name):\n",
    "    button = widgets.Button(\n",
    "        description=name+' modify',\n",
    "        disabled=False,\n",
    "        button_style='info', # 'success', 'info', 'warning', 'danger' or ''\n",
    "        tooltip=name,\n",
    "        icon='check' # (FontAwesome names without the `fa-` prefix)\n",
    "    )\n",
    "\n",
    "    button.on_click(modifyFunc)\n",
    "    return button\n",
    "\n",
    "def plotThis(myMonolayer):\n",
    "\n",
    "    myLabel=myMonolayer.param[\"Name\"]\n",
    "    \n",
    "    dictPlots[myLabel][\"graph\"], = ax.plot(myMonolayer.data[whatToPlot],myMonolayer.data[\"SP[mN/m]\"],\"-o\",markersize=markersize, label=myLabel)\n",
    "    btons.append(createButtonRemove(myLabel))\n",
    "    return\n"
   ]
  },
  {
   "cell_type": "code",
   "execution_count": 57,
   "metadata": {},
   "outputs": [
    {
     "data": {
      "application/vnd.jupyter.widget-view+json": {
       "model_id": "d4c6ce3d726446a880bef707a89ba7bc",
       "version_major": 2,
       "version_minor": 0
      },
      "text/plain": [
       "HBox(children=(Button(button_style='warning', description='Chol_B0509 remove', icon='check', style=ButtonStyle…"
      ]
     },
     "execution_count": 57,
     "metadata": {},
     "output_type": "execute_result"
    }
   ],
   "source": [
    "dictPlots={}\n",
    "btons=[]\n",
    "myPaths=[\n",
    "\"Chol_B0509/Chol_B0509\",\n",
    "]\n",
    "\n",
    "for path in myPaths:\n",
    "    path=filepath+path+\"_IMG.xlsx\"\n",
    "    \n",
    "    myMonolayer=Monolayer(path)\n",
    "    name=myMonolayer.param[\"Name\"]\n",
    "    dictPlots[myMonolayer.param[\"Name\"]]={}\n",
    "    myMonolayer.RemoveBias()\n",
    "    dictPlots[myMonolayer.param[\"Name\"]][\"monolayer\"]=myMonolayer\n",
    "    plotThis(myMonolayer)\n",
    "\n",
    "\n",
    "allBut=widgets.HBox(btons)\n",
    "allBut"
   ]
  },
  {
   "cell_type": "code",
   "execution_count": null,
   "metadata": {},
   "outputs": [],
   "source": [
    "#add plot\n",
    "path=\"\"\n",
    "path=filepath+path+\"_IMG.xlsx\"\n",
    "dictPlots[path]={}\n",
    "myMonolayer=Monolayer(path)\n",
    "myMonolayer.RemoveBias()\n",
    "dictPlots[path][\"monolayer\"]=myMonolayer\n",
    "\n",
    "plotThis(path)"
   ]
  },
  {
   "cell_type": "code",
   "execution_count": null,
   "metadata": {},
   "outputs": [],
   "source": [
    "#edit plot\n",
    "path=\"\"\n",
    "\n",
    "data= dictPlots[path][\"monolayer\"]\n",
    "\n",
    "\n",
    "\n",
    "\n"
   ]
  },
  {
   "cell_type": "code",
   "execution_count": null,
   "metadata": {},
   "outputs": [],
   "source": [
    "button = widgets.Button(\n",
    "        description=' prueba',\n",
    "        disabled=False,\n",
    "        button_style='', # 'success', 'info', 'warning', 'danger' or ''\n",
    "        tooltip=\"hola\",\n",
    "        icon='check' # (FontAwesome names without the `fa-` prefix)\n",
    "    )\n",
    "button"
   ]
  }
 ],
 "metadata": {
  "kernelspec": {
   "display_name": "Python 3",
   "language": "python",
   "name": "python3"
  },
  "language_info": {
   "codemirror_mode": {
    "name": "ipython",
    "version": 3
   },
   "file_extension": ".py",
   "mimetype": "text/x-python",
   "name": "python",
   "nbconvert_exporter": "python",
   "pygments_lexer": "ipython3",
   "version": "3.9.6"
  },
  "orig_nbformat": 4
 },
 "nbformat": 4,
 "nbformat_minor": 2
}
