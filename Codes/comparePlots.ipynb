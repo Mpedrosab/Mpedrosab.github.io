{
 "cells": [
  {
   "cell_type": "code",
   "execution_count": 70,
   "metadata": {},
   "outputs": [
    {
     "name": "stdout",
     "output_type": "stream",
     "text": [
      "Using matplotlib backend: TkAgg\n"
     ]
    }
   ],
   "source": [
    "%matplotlib\n",
    "import matplotlib.pyplot as plt\n",
    "from monolayerClass import Monolayer\n",
    "from IPython.display import display\n",
    "import ipywidgets as widgets\n",
    "\n",
    "\n",
    "filepath=\"d:/Documentos_D/Google_Drive_UGR/Data_analysis/Data/\"\n",
    "#filepath=\"Data/\"\n",
    "#filesave=\"AllCurs\"\n",
    "whatToPlot=\"AreaPerMass\"\n",
    "#whatToPlot=\"PercentCompr\"\n",
    "#whatToPlot=\"T[min]\"\n",
    "whatToPlot=\"Mma[A^2/molec]\"\n",
    "#whatToPlot=\"Area[cm^2]\"\n",
    "markersize=4\n",
    "dictPlots={}\n",
    "btons=[]\n",
    "\n",
    "\n",
    "textBox = widgets.Text(\n",
    "    value='',\n",
    "    placeholder='Type something',\n",
    "    style={\"display\":\"block\"},\n",
    "    description='Equation:')\n",
    "\n",
    "\n"
   ]
  },
  {
   "cell_type": "code",
   "execution_count": 91,
   "metadata": {},
   "outputs": [],
   "source": [
    "def modifyFunc(b):\n",
    "    command=textBox.value\n",
    "    print(\"My command: \"+command)\n",
    "    nameData=b.tooltip\n",
    "    if \"x+\" in command:\n",
    "        dictPlots[nameData][\"monolayer\"].data[whatToPlot]=dictPlots[nameData][\"monolayer\"].data[whatToPlot]+float(command.split(\"x+\")[1])\n",
    "\n",
    "    dictPlots[nameData][\"graph\"].remove()\n",
    "    plotThis(dictPlots[nameData][\"monolayer\"])\n",
    "    return\n",
    "\n",
    "\n",
    "def removeFunc(b):\n",
    "\n",
    "    line = dictPlots[b.tooltip][\"graph\"]\n",
    "    line.remove()\n",
    "    fig.legend()\n",
    "\n",
    "\n",
    "\n",
    "    return\n",
    "\n",
    "def createButtonRemove(name):\n",
    "    button = widgets.Button(\n",
    "        description=name+' remove',\n",
    "        disabled=False,\n",
    "        button_style='warning', # 'success', 'info', 'warning', 'danger' or ''\n",
    "        tooltip=name,\n",
    "        layout={\"font-size\":\"5px\", \"display\":\"inline-block\", \"width\":\"max-content\"},\n",
    "        icon='check' # (FontAwesome names without the `fa-` prefix)\n",
    "    )\n",
    "\n",
    "    button.on_click(removeFunc)\n",
    "    return button\n",
    "\n",
    "def createButtonModify(name):\n",
    "    button = widgets.Button(\n",
    "        description=name+' modify',\n",
    "        disabled=False,\n",
    "        button_style='info', # 'success', 'info', 'warning', 'danger' or ''\n",
    "        tooltip=name,\n",
    "        layout={\"font-size\":\"5px\", \"display\":\"inline-block\", \"width\":\"max-content\"},\n",
    "        icon='check' # (FontAwesome names without the `fa-` prefix)\n",
    "    )\n",
    "\n",
    "    button.on_click(modifyFunc)\n",
    "\n",
    "\n",
    "    \n",
    "    return button\n",
    "\n",
    "def plotThis(myMonolayer):\n",
    "\n",
    "    myLabel=myMonolayer.param[\"Name\"]\n",
    "    \n",
    "    dictPlots[myLabel][\"graph\"], = ax.plot(myMonolayer.data[whatToPlot],myMonolayer.data[\"SP[mN/m]\"],\"-o\",markersize=markersize, label=myLabel)\n",
    "\n",
    "    \n",
    "    btons[myLabel+\"rem\"]=createButtonRemove(myLabel)\n",
    "    btons[myLabel+\"mod\"]=createButtonModify(myLabel)\n",
    "\n",
    "\n",
    "    \n",
    "    return\n"
   ]
  },
  {
   "cell_type": "code",
   "execution_count": 94,
   "metadata": {},
   "outputs": [
    {
     "data": {
      "application/vnd.jupyter.widget-view+json": {
       "model_id": "a534e34bbf2f4490a59061ed1d3404f5",
       "version_major": 2,
       "version_minor": 0
      },
      "text/plain": [
       "VBox(children=(Button(button_style='warning', description='DPPC_B0428N20f remove', icon='check', layout=Layout…"
      ]
     },
     "execution_count": 94,
     "metadata": {},
     "output_type": "execute_result"
    }
   ],
   "source": [
    "dictPlots={}\n",
    "btons={}\n",
    "myPaths=[\n",
    "#\"DPPC_B0119/DPPC_B0119\",   #more condensed\n",
    "\"DPPC_B0428N20f/DPPC_B0428N20f\",   #more condensed\n",
    "#\"DPPC_S_W0110/DPPC_S_W0110\",\n",
    "\"CholPC10_B0125/CholPC10_B0125\",\n",
    "#\"CholPC25_B0125/CholPC25_B0125\",\n",
    "\"CholPC40_B1125/CholPC40_B1125\", #mas condensada\n",
    "\"CholPC40_B0412/CholPC40_B0412\",\n",
    "\"CholPC50_B0505/CholPC50_B0505\",\n",
    "#\"TFG/Chol-DPPC-067_B1/Chol-DPPC-067_B1\", #mas expandido\n",
    "\"TFG/Chol-DPPC-067_B4/Chol-DPPC-067_B4\", #menos expandido\n",
    "\"CholPC80_B0126_2/CholPC80_B0126_2\",\n",
    "\"CholPC90_0126/CholPC90_0126\",\n",
    "\"CholPC90_B0123/CholPC90_B0123\", #changing collapse\n",
    "#\"Chol_B0720N20/Chol_B0720N20\", #no tengo de este año?? más tumbada\n",
    "\"Chol_B0527N20/Chol_B0527N20\", #no tengo de este año??\n",
    "]\n",
    "\n",
    "fig, ax = plt.subplots()\n",
    "ax.grid()\n",
    "\n",
    "\n",
    "for path in myPaths:\n",
    "    path=filepath+path+\"_IMG.xlsx\"\n",
    "    \n",
    "    myMonolayer=Monolayer(path)\n",
    "    name=myMonolayer.param[\"Name\"]\n",
    "    dictPlots[myMonolayer.param[\"Name\"]]={}\n",
    "    myMonolayer.RemoveBias()\n",
    "    dictPlots[myMonolayer.param[\"Name\"]][\"monolayer\"]=myMonolayer\n",
    "    plotThis(myMonolayer)\n",
    "\n",
    "fig.legend()\n",
    "my_list = [i for i in btons.values()]\n",
    "allBut=widgets.VBox(my_list,layout={\"max-width\":\"1em !important\"})\n",
    "allBut"
   ]
  },
  {
   "cell_type": "code",
   "execution_count": null,
   "metadata": {},
   "outputs": [],
   "source": [
    "#add plot\n",
    "path=\"\"\n",
    "path=filepath+path+\"_IMG.xlsx\"\n",
    "dictPlots[path]={}\n",
    "myMonolayer=Monolayer(path)\n",
    "myMonolayer.RemoveBias()\n",
    "dictPlots[path][\"monolayer\"]=myMonolayer\n",
    "\n",
    "plotThis(path)"
   ]
  },
  {
   "cell_type": "code",
   "execution_count": null,
   "metadata": {},
   "outputs": [],
   "source": [
    "#edit plot\n",
    "path=\"\"\n",
    "\n",
    "data= dictPlots[path][\"monolayer\"]\n",
    "\n",
    "\n",
    "\n",
    "\n"
   ]
  },
  {
   "cell_type": "code",
   "execution_count": null,
   "metadata": {},
   "outputs": [],
   "source": [
    "button = widgets.Button(\n",
    "        description=' prueba',\n",
    "        disabled=False,\n",
    "        button_style='', # 'success', 'info', 'warning', 'danger' or ''\n",
    "        tooltip=\"hola\",\n",
    "        icon='check' # (FontAwesome names without the `fa-` prefix)\n",
    "    )\n",
    "button"
   ]
  }
 ],
 "metadata": {
  "kernelspec": {
   "display_name": "Python 3",
   "language": "python",
   "name": "python3"
  },
  "language_info": {
   "codemirror_mode": {
    "name": "ipython",
    "version": 3
   },
   "file_extension": ".py",
   "mimetype": "text/x-python",
   "name": "python",
   "nbconvert_exporter": "python",
   "pygments_lexer": "ipython3",
   "version": "3.9.6"
  },
  "orig_nbformat": 4
 },
 "nbformat": 4,
 "nbformat_minor": 2
}
